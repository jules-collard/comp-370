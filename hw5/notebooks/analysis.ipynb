{
 "cells": [
  {
   "cell_type": "code",
   "execution_count": 1,
   "metadata": {},
   "outputs": [],
   "source": [
    "import pandas as pd\n",
    "import seaborn as sns\n",
    "import matplotlib.pyplot as plt"
   ]
  },
  {
   "cell_type": "code",
   "execution_count": 2,
   "metadata": {},
   "outputs": [
    {
     "name": "stderr",
     "output_type": "stream",
     "text": [
      "C:\\Users\\Jules\\AppData\\Local\\Temp\\ipykernel_5076\\2171897424.py:1: DtypeWarning: Columns (20,31,32,34,35,36,37) have mixed types. Specify dtype option on import or set low_memory=False.\n",
      "  data = pd.read_csv(\"../data/nyc_311_2020.csv\")\n"
     ]
    }
   ],
   "source": [
    "data = pd.read_csv(\"../data/nyc_311_2020.csv\")"
   ]
  },
  {
   "cell_type": "code",
   "execution_count": 3,
   "metadata": {},
   "outputs": [],
   "source": [
    "data['created_date'] = pd.to_datetime(data['created_date'])\n",
    "data['closed_date'] = pd.to_datetime(data['closed_date'])"
   ]
  },
  {
   "cell_type": "markdown",
   "metadata": {},
   "source": [
    "# Task 1"
   ]
  },
  {
   "cell_type": "code",
   "execution_count": 40,
   "metadata": {},
   "outputs": [
    {
     "name": "stderr",
     "output_type": "stream",
     "text": [
      "C:\\Users\\Jules\\AppData\\Local\\Temp\\ipykernel_19268\\3715310016.py:2: SettingWithCopyWarning: \n",
      "A value is trying to be set on a copy of a slice from a DataFrame.\n",
      "Try using .loc[row_indexer,col_indexer] = value instead\n",
      "\n",
      "See the caveats in the documentation: https://pandas.pydata.org/pandas-docs/stable/user_guide/indexing.html#returning-a-view-versus-a-copy\n",
      "  noise_complaints['month'] = noise_complaints['created_date'].dt.month\n"
     ]
    },
    {
     "data": {
      "text/html": [
       "<div>\n",
       "<style scoped>\n",
       "    .dataframe tbody tr th:only-of-type {\n",
       "        vertical-align: middle;\n",
       "    }\n",
       "\n",
       "    .dataframe tbody tr th {\n",
       "        vertical-align: top;\n",
       "    }\n",
       "\n",
       "    .dataframe thead th {\n",
       "        text-align: right;\n",
       "    }\n",
       "</style>\n",
       "<table border=\"1\" class=\"dataframe\">\n",
       "  <thead>\n",
       "    <tr style=\"text-align: right;\">\n",
       "      <th></th>\n",
       "      <th>complaint_type</th>\n",
       "      <th>count</th>\n",
       "    </tr>\n",
       "  </thead>\n",
       "  <tbody>\n",
       "    <tr>\n",
       "      <th>0</th>\n",
       "      <td>Noise - Residential</td>\n",
       "      <td>306912</td>\n",
       "    </tr>\n",
       "    <tr>\n",
       "      <th>1</th>\n",
       "      <td>Noise - Street/Sidewalk</td>\n",
       "      <td>170472</td>\n",
       "    </tr>\n",
       "    <tr>\n",
       "      <th>2</th>\n",
       "      <td>Noise - Vehicle</td>\n",
       "      <td>61825</td>\n",
       "    </tr>\n",
       "    <tr>\n",
       "      <th>3</th>\n",
       "      <td>Noise - Commercial</td>\n",
       "      <td>31848</td>\n",
       "    </tr>\n",
       "    <tr>\n",
       "      <th>4</th>\n",
       "      <td>Noise</td>\n",
       "      <td>31596</td>\n",
       "    </tr>\n",
       "    <tr>\n",
       "      <th>5</th>\n",
       "      <td>Noise - Park</td>\n",
       "      <td>6265</td>\n",
       "    </tr>\n",
       "    <tr>\n",
       "      <th>6</th>\n",
       "      <td>Noise - Helicopter</td>\n",
       "      <td>5610</td>\n",
       "    </tr>\n",
       "    <tr>\n",
       "      <th>7</th>\n",
       "      <td>Noise - House of Worship</td>\n",
       "      <td>419</td>\n",
       "    </tr>\n",
       "    <tr>\n",
       "      <th>8</th>\n",
       "      <td>Collection Truck Noise</td>\n",
       "      <td>1</td>\n",
       "    </tr>\n",
       "  </tbody>\n",
       "</table>\n",
       "</div>"
      ],
      "text/plain": [
       "             complaint_type   count\n",
       "0       Noise - Residential  306912\n",
       "1   Noise - Street/Sidewalk  170472\n",
       "2           Noise - Vehicle   61825\n",
       "3        Noise - Commercial   31848\n",
       "4                     Noise   31596\n",
       "5              Noise - Park    6265\n",
       "6        Noise - Helicopter    5610\n",
       "7  Noise - House of Worship     419\n",
       "8    Collection Truck Noise       1"
      ]
     },
     "metadata": {},
     "output_type": "display_data"
    }
   ],
   "source": [
    "noise_complaints = data[data['complaint_type'].str.contains(\"Noise\")]\n",
    "noise_complaints['month'] = noise_complaints['created_date'].dt.month\n",
    "complaints_summary = noise_complaints.value_counts(\"complaint_type\").reset_index()\n",
    "display(complaints_summary)"
   ]
  },
  {
   "cell_type": "code",
   "execution_count": 41,
   "metadata": {},
   "outputs": [
    {
     "data": {
      "text/html": [
       "<div>\n",
       "<style scoped>\n",
       "    .dataframe tbody tr th:only-of-type {\n",
       "        vertical-align: middle;\n",
       "    }\n",
       "\n",
       "    .dataframe tbody tr th {\n",
       "        vertical-align: top;\n",
       "    }\n",
       "\n",
       "    .dataframe thead th {\n",
       "        text-align: right;\n",
       "    }\n",
       "</style>\n",
       "<table border=\"1\" class=\"dataframe\">\n",
       "  <thead>\n",
       "    <tr style=\"text-align: right;\">\n",
       "      <th></th>\n",
       "      <th>count</th>\n",
       "      <th>complaint</th>\n",
       "    </tr>\n",
       "  </thead>\n",
       "  <tbody>\n",
       "    <tr>\n",
       "      <th>0</th>\n",
       "      <td>306912</td>\n",
       "      <td>Residential</td>\n",
       "    </tr>\n",
       "    <tr>\n",
       "      <th>1</th>\n",
       "      <td>170472</td>\n",
       "      <td>Street/Sidewalk</td>\n",
       "    </tr>\n",
       "    <tr>\n",
       "      <th>2</th>\n",
       "      <td>61825</td>\n",
       "      <td>Vehicle</td>\n",
       "    </tr>\n",
       "    <tr>\n",
       "      <th>3</th>\n",
       "      <td>31848</td>\n",
       "      <td>Commercial</td>\n",
       "    </tr>\n",
       "    <tr>\n",
       "      <th>4</th>\n",
       "      <td>31596</td>\n",
       "      <td>Miscellaneous</td>\n",
       "    </tr>\n",
       "    <tr>\n",
       "      <th>5</th>\n",
       "      <td>6265</td>\n",
       "      <td>Park</td>\n",
       "    </tr>\n",
       "    <tr>\n",
       "      <th>6</th>\n",
       "      <td>5610</td>\n",
       "      <td>Helicopter</td>\n",
       "    </tr>\n",
       "    <tr>\n",
       "      <th>7</th>\n",
       "      <td>419</td>\n",
       "      <td>House of Worship</td>\n",
       "    </tr>\n",
       "    <tr>\n",
       "      <th>8</th>\n",
       "      <td>1</td>\n",
       "      <td>Collection Truck Miscellaneous</td>\n",
       "    </tr>\n",
       "  </tbody>\n",
       "</table>\n",
       "</div>"
      ],
      "text/plain": [
       "    count                       complaint\n",
       "0  306912                     Residential\n",
       "1  170472                 Street/Sidewalk\n",
       "2   61825                         Vehicle\n",
       "3   31848                      Commercial\n",
       "4   31596                   Miscellaneous\n",
       "5    6265                            Park\n",
       "6    5610                      Helicopter\n",
       "7     419                House of Worship\n",
       "8       1  Collection Truck Miscellaneous"
      ]
     },
     "metadata": {},
     "output_type": "display_data"
    }
   ],
   "source": [
    "complaints_summary['complaint'] = (complaints_summary['complaint_type']\n",
    "                                   .apply(lambda x: str.replace(x, \"Noise - \", \"\"))\n",
    "                                   .apply(lambda x: str.replace(x, \"Noise\", \"Miscellaneous\"))\n",
    ")\n",
    "complaints_summary = complaints_summary.drop(columns=['complaint_type'])\n",
    "display(complaints_summary)"
   ]
  },
  {
   "cell_type": "code",
   "execution_count": 29,
   "metadata": {},
   "outputs": [
    {
     "data": {
      "text/plain": [
       "<Axes: xlabel='count', ylabel='complaint'>"
      ]
     },
     "execution_count": 29,
     "metadata": {},
     "output_type": "execute_result"
    },
    {
     "data": {
      "image/png": "[encoded data removed]",
      "text/plain": [
       "<Figure size 640x480 with 1 Axes>"
      ]
     },
     "metadata": {},
     "output_type": "display_data"
    }
   ],
   "source": [
    "sns.barplot(data = complaints_summary, y = 'complaint', x = 'count', orient='h')"
   ]
  },
  {
   "cell_type": "code",
   "execution_count": 50,
   "metadata": {},
   "outputs": [
    {
     "data": {
      "text/html": [
       "<div>\n",
       "<style scoped>\n",
       "    .dataframe tbody tr th:only-of-type {\n",
       "        vertical-align: middle;\n",
       "    }\n",
       "\n",
       "    .dataframe tbody tr th {\n",
       "        vertical-align: top;\n",
       "    }\n",
       "\n",
       "    .dataframe thead th {\n",
       "        text-align: right;\n",
       "    }\n",
       "</style>\n",
       "<table border=\"1\" class=\"dataframe\">\n",
       "  <thead>\n",
       "    <tr style=\"text-align: right;\">\n",
       "      <th></th>\n",
       "      <th>month</th>\n",
       "      <th>complaint_type</th>\n",
       "      <th>count</th>\n",
       "    </tr>\n",
       "  </thead>\n",
       "  <tbody>\n",
       "    <tr>\n",
       "      <th>0</th>\n",
       "      <td>1</td>\n",
       "      <td>Noise - Residential</td>\n",
       "      <td>18463</td>\n",
       "    </tr>\n",
       "    <tr>\n",
       "      <th>1</th>\n",
       "      <td>1</td>\n",
       "      <td>Noise</td>\n",
       "      <td>3761</td>\n",
       "    </tr>\n",
       "    <tr>\n",
       "      <th>2</th>\n",
       "      <td>1</td>\n",
       "      <td>Noise - Street/Sidewalk</td>\n",
       "      <td>3096</td>\n",
       "    </tr>\n",
       "    <tr>\n",
       "      <th>3</th>\n",
       "      <td>1</td>\n",
       "      <td>Noise - Commercial</td>\n",
       "      <td>3052</td>\n",
       "    </tr>\n",
       "    <tr>\n",
       "      <th>4</th>\n",
       "      <td>1</td>\n",
       "      <td>Noise - Vehicle</td>\n",
       "      <td>2495</td>\n",
       "    </tr>\n",
       "    <tr>\n",
       "      <th>...</th>\n",
       "      <td>...</td>\n",
       "      <td>...</td>\n",
       "      <td>...</td>\n",
       "    </tr>\n",
       "    <tr>\n",
       "      <th>68</th>\n",
       "      <td>9</td>\n",
       "      <td>Noise</td>\n",
       "      <td>3955</td>\n",
       "    </tr>\n",
       "    <tr>\n",
       "      <th>69</th>\n",
       "      <td>9</td>\n",
       "      <td>Noise - Park</td>\n",
       "      <td>1631</td>\n",
       "    </tr>\n",
       "    <tr>\n",
       "      <th>70</th>\n",
       "      <td>9</td>\n",
       "      <td>Noise - Helicopter</td>\n",
       "      <td>1042</td>\n",
       "    </tr>\n",
       "    <tr>\n",
       "      <th>71</th>\n",
       "      <td>9</td>\n",
       "      <td>Noise - House of Worship</td>\n",
       "      <td>65</td>\n",
       "    </tr>\n",
       "    <tr>\n",
       "      <th>72</th>\n",
       "      <td>9</td>\n",
       "      <td>Collection Truck Noise</td>\n",
       "      <td>1</td>\n",
       "    </tr>\n",
       "  </tbody>\n",
       "</table>\n",
       "<p>73 rows × 3 columns</p>\n",
       "</div>"
      ],
      "text/plain": [
       "    month            complaint_type  count\n",
       "0       1       Noise - Residential  18463\n",
       "1       1                     Noise   3761\n",
       "2       1   Noise - Street/Sidewalk   3096\n",
       "3       1        Noise - Commercial   3052\n",
       "4       1           Noise - Vehicle   2495\n",
       "..    ...                       ...    ...\n",
       "68      9                     Noise   3955\n",
       "69      9              Noise - Park   1631\n",
       "70      9        Noise - Helicopter   1042\n",
       "71      9  Noise - House of Worship     65\n",
       "72      9    Collection Truck Noise      1\n",
       "\n",
       "[73 rows x 3 columns]"
      ]
     },
     "metadata": {},
     "output_type": "display_data"
    }
   ],
   "source": [
    "complaints_summary_month = (noise_complaints\n",
    "                            .groupby('month')['complaint_type']\n",
    "                            .value_counts()\n",
    "                            .reset_index()\n",
    ")\n",
    "display(complaints_summary_month)"
   ]
  },
  {
   "cell_type": "code",
   "execution_count": 92,
   "metadata": {},
   "outputs": [
    {
     "data": {
      "text/html": [
       "<div>\n",
       "<style scoped>\n",
       "    .dataframe tbody tr th:only-of-type {\n",
       "        vertical-align: middle;\n",
       "    }\n",
       "\n",
       "    .dataframe tbody tr th {\n",
       "        vertical-align: top;\n",
       "    }\n",
       "\n",
       "    .dataframe thead th {\n",
       "        text-align: right;\n",
       "    }\n",
       "</style>\n",
       "<table border=\"1\" class=\"dataframe\">\n",
       "  <thead>\n",
       "    <tr style=\"text-align: right;\">\n",
       "      <th>complaint_type</th>\n",
       "      <th>month</th>\n",
       "      <th>Collection Truck Noise</th>\n",
       "      <th>Noise</th>\n",
       "      <th>Noise - Commercial</th>\n",
       "      <th>Noise - Helicopter</th>\n",
       "      <th>Noise - House of Worship</th>\n",
       "      <th>Noise - Park</th>\n",
       "      <th>Noise - Residential</th>\n",
       "      <th>Noise - Street/Sidewalk</th>\n",
       "      <th>Noise - Vehicle</th>\n",
       "    </tr>\n",
       "  </thead>\n",
       "  <tbody>\n",
       "    <tr>\n",
       "      <th>0</th>\n",
       "      <td>1</td>\n",
       "      <td>0.00000</td>\n",
       "      <td>0.118393</td>\n",
       "      <td>0.096075</td>\n",
       "      <td>0.025498</td>\n",
       "      <td>0.000818</td>\n",
       "      <td>0.002015</td>\n",
       "      <td>0.581201</td>\n",
       "      <td>0.097460</td>\n",
       "      <td>0.078541</td>\n",
       "    </tr>\n",
       "    <tr>\n",
       "      <th>1</th>\n",
       "      <td>2</td>\n",
       "      <td>0.00000</td>\n",
       "      <td>0.117144</td>\n",
       "      <td>0.094893</td>\n",
       "      <td>0.020129</td>\n",
       "      <td>0.001164</td>\n",
       "      <td>0.001677</td>\n",
       "      <td>0.606121</td>\n",
       "      <td>0.084554</td>\n",
       "      <td>0.074319</td>\n",
       "    </tr>\n",
       "    <tr>\n",
       "      <th>2</th>\n",
       "      <td>3</td>\n",
       "      <td>0.00000</td>\n",
       "      <td>0.114628</td>\n",
       "      <td>0.059706</td>\n",
       "      <td>0.009969</td>\n",
       "      <td>0.001236</td>\n",
       "      <td>0.004353</td>\n",
       "      <td>0.582411</td>\n",
       "      <td>0.139214</td>\n",
       "      <td>0.088483</td>\n",
       "    </tr>\n",
       "    <tr>\n",
       "      <th>3</th>\n",
       "      <td>4</td>\n",
       "      <td>0.00000</td>\n",
       "      <td>0.061795</td>\n",
       "      <td>0.027227</td>\n",
       "      <td>0.007340</td>\n",
       "      <td>0.001803</td>\n",
       "      <td>0.006604</td>\n",
       "      <td>0.673423</td>\n",
       "      <td>0.140684</td>\n",
       "      <td>0.081124</td>\n",
       "    </tr>\n",
       "    <tr>\n",
       "      <th>4</th>\n",
       "      <td>5</td>\n",
       "      <td>0.00000</td>\n",
       "      <td>0.051360</td>\n",
       "      <td>0.029120</td>\n",
       "      <td>0.005595</td>\n",
       "      <td>0.000757</td>\n",
       "      <td>0.003940</td>\n",
       "      <td>0.552118</td>\n",
       "      <td>0.257867</td>\n",
       "      <td>0.099243</td>\n",
       "    </tr>\n",
       "    <tr>\n",
       "      <th>5</th>\n",
       "      <td>6</td>\n",
       "      <td>0.00000</td>\n",
       "      <td>0.035662</td>\n",
       "      <td>0.035466</td>\n",
       "      <td>0.009897</td>\n",
       "      <td>0.000448</td>\n",
       "      <td>0.009328</td>\n",
       "      <td>0.387659</td>\n",
       "      <td>0.423731</td>\n",
       "      <td>0.097808</td>\n",
       "    </tr>\n",
       "    <tr>\n",
       "      <th>6</th>\n",
       "      <td>7</td>\n",
       "      <td>0.00000</td>\n",
       "      <td>0.030984</td>\n",
       "      <td>0.061693</td>\n",
       "      <td>0.005221</td>\n",
       "      <td>0.000374</td>\n",
       "      <td>0.013339</td>\n",
       "      <td>0.438263</td>\n",
       "      <td>0.346599</td>\n",
       "      <td>0.103527</td>\n",
       "    </tr>\n",
       "    <tr>\n",
       "      <th>7</th>\n",
       "      <td>8</td>\n",
       "      <td>0.00000</td>\n",
       "      <td>0.030266</td>\n",
       "      <td>0.049050</td>\n",
       "      <td>0.005227</td>\n",
       "      <td>0.000349</td>\n",
       "      <td>0.015332</td>\n",
       "      <td>0.483970</td>\n",
       "      <td>0.305489</td>\n",
       "      <td>0.110318</td>\n",
       "    </tr>\n",
       "    <tr>\n",
       "      <th>8</th>\n",
       "      <td>9</td>\n",
       "      <td>0.00001</td>\n",
       "      <td>0.040212</td>\n",
       "      <td>0.061005</td>\n",
       "      <td>0.010594</td>\n",
       "      <td>0.000661</td>\n",
       "      <td>0.016583</td>\n",
       "      <td>0.490885</td>\n",
       "      <td>0.261304</td>\n",
       "      <td>0.118746</td>\n",
       "    </tr>\n",
       "  </tbody>\n",
       "</table>\n",
       "</div>"
      ],
      "text/plain": [
       "complaint_type  month  Collection Truck Noise     Noise  Noise - Commercial  \\\n",
       "0                   1                 0.00000  0.118393            0.096075   \n",
       "1                   2                 0.00000  0.117144            0.094893   \n",
       "2                   3                 0.00000  0.114628            0.059706   \n",
       "3                   4                 0.00000  0.061795            0.027227   \n",
       "4                   5                 0.00000  0.051360            0.029120   \n",
       "5                   6                 0.00000  0.035662            0.035466   \n",
       "6                   7                 0.00000  0.030984            0.061693   \n",
       "7                   8                 0.00000  0.030266            0.049050   \n",
       "8                   9                 0.00001  0.040212            0.061005   \n",
       "\n",
       "complaint_type  Noise - Helicopter  Noise - House of Worship  Noise - Park  \\\n",
       "0                         0.025498                  0.000818      0.002015   \n",
       "1                         0.020129                  0.001164      0.001677   \n",
       "2                         0.009969                  0.001236      0.004353   \n",
       "3                         0.007340                  0.001803      0.006604   \n",
       "4                         0.005595                  0.000757      0.003940   \n",
       "5                         0.009897                  0.000448      0.009328   \n",
       "6                         0.005221                  0.000374      0.013339   \n",
       "7                         0.005227                  0.000349      0.015332   \n",
       "8                         0.010594                  0.000661      0.016583   \n",
       "\n",
       "complaint_type  Noise - Residential  Noise - Street/Sidewalk  Noise - Vehicle  \n",
       "0                          0.581201                 0.097460         0.078541  \n",
       "1                          0.606121                 0.084554         0.074319  \n",
       "2                          0.582411                 0.139214         0.088483  \n",
       "3                          0.673423                 0.140684         0.081124  \n",
       "4                          0.552118                 0.257867         0.099243  \n",
       "5                          0.387659                 0.423731         0.097808  \n",
       "6                          0.438263                 0.346599         0.103527  \n",
       "7                          0.483970                 0.305489         0.110318  \n",
       "8                          0.490885                 0.261304         0.118746  "
      ]
     },
     "metadata": {},
     "output_type": "display_data"
    }
   ],
   "source": [
    "complaints_summary_month = (noise_complaints[['unique_key', 'month', 'complaint_type']]\n",
    "                            .groupby(['month', 'complaint_type'])\n",
    "                            .size()\n",
    "                            .unstack(fill_value=0)\n",
    "                            .reset_index())\n",
    "complaints_summary_month[list(complaints_summary_month.columns[1:])] = (complaints_summary_month[list(complaints_summary_month.columns[1:])]\n",
    "                                                                        .apply(lambda row: row / sum(row), axis=1))\n",
    "display(complaints_summary_month)"
   ]
  },
  {
   "cell_type": "code",
   "execution_count": 96,
   "metadata": {},
   "outputs": [
    {
     "data": {
      "image/png": "[encoded data removed]",
      "text/plain": [
       "<Figure size 640x480 with 1 Axes>"
      ]
     },
     "metadata": {},
     "output_type": "display_data"
    }
   ],
   "source": [
    "colours = ['green', 'lightgreen', 'blue', 'lightblue', 'red', 'yellow', 'purple', 'orange', 'gray']\n",
    "complaints_summary_month.set_index('month').plot(kind='bar', stacked=True, color=colours) ## Plot\n",
    "plt.savefig(\"../plots/task1_plot.png\")"
   ]
  },
  {
   "cell_type": "markdown",
   "metadata": {},
   "source": [
    "# Task 2"
   ]
  },
  {
   "cell_type": "code",
   "execution_count": 24,
   "metadata": {},
   "outputs": [],
   "source": [
    "complaint_type_summary = data.value_counts('complaint_type').reset_index()\n",
    "# with pd.option_context('display.max_rows', None, 'display.max_columns', None):\n",
    "#    display(complaint_type_summary)"
   ]
  },
  {
   "cell_type": "code",
   "execution_count": 18,
   "metadata": {},
   "outputs": [],
   "source": [
    "sanitation_complaints = data[data['complaint_type'] == \"UNSANITARY CONDITION\"]"
   ]
  },
  {
   "cell_type": "code",
   "execution_count": 20,
   "metadata": {},
   "outputs": [
    {
     "data": {
      "text/plain": [
       "descriptor\n",
       "PESTS                        17467\n",
       "MOLD                          9465\n",
       "GARBAGE/RECYCLING STORAGE     7388\n",
       "SEWAGE                         968\n",
       "Name: count, dtype: int64"
      ]
     },
     "execution_count": 20,
     "metadata": {},
     "output_type": "execute_result"
    }
   ],
   "source": [
    "sanitation_complaints.value_counts('descriptor')"
   ]
  },
  {
   "cell_type": "code",
   "execution_count": 32,
   "metadata": {},
   "outputs": [
    {
     "data": {
      "text/plain": [
       "location_type\n",
       "Street/Sidewalk                 485494\n",
       "Residential Building/House      323793\n",
       "RESIDENTIAL BUILDING            223814\n",
       "Street                          165950\n",
       "Store/Commercial                 75738\n",
       "                                 ...  \n",
       "Theater                              1\n",
       "Correctional Facility - City         1\n",
       "Catering Hall                        1\n",
       "Nursing Home                         1\n",
       "Dentist's Office                     1\n",
       "Name: count, Length: 135, dtype: int64"
      ]
     },
     "execution_count": 32,
     "metadata": {},
     "output_type": "execute_result"
    }
   ],
   "source": [
    "data['pest_complaint'] = ((data['complaint_type'] == \"UNSANITARY CONDITION\") & (data['descriptor'] == \"PESTS\"))"
   ]
  },
  {
   "cell_type": "code",
   "execution_count": 40,
   "metadata": {},
   "outputs": [
    {
     "data": {
      "text/html": [
       "<div>\n",
       "<style scoped>\n",
       "    .dataframe tbody tr th:only-of-type {\n",
       "        vertical-align: middle;\n",
       "    }\n",
       "\n",
       "    .dataframe tbody tr th {\n",
       "        vertical-align: top;\n",
       "    }\n",
       "\n",
       "    .dataframe thead th {\n",
       "        text-align: right;\n",
       "    }\n",
       "</style>\n",
       "<table border=\"1\" class=\"dataframe\">\n",
       "  <thead>\n",
       "    <tr style=\"text-align: right;\">\n",
       "      <th></th>\n",
       "      <th>location_type</th>\n",
       "      <th>pest_complaint</th>\n",
       "    </tr>\n",
       "  </thead>\n",
       "  <tbody>\n",
       "    <tr>\n",
       "      <th>83</th>\n",
       "      <td>RESIDENTIAL BUILDING</td>\n",
       "      <td>0.078042</td>\n",
       "    </tr>\n",
       "  </tbody>\n",
       "</table>\n",
       "</div>"
      ],
      "text/plain": [
       "           location_type  pest_complaint\n",
       "83  RESIDENTIAL BUILDING        0.078042"
      ]
     },
     "metadata": {},
     "output_type": "display_data"
    }
   ],
   "source": [
    "pest_complaints_summary = (data\n",
    "                           .groupby('location_type')\n",
    "                           .agg({'pest_complaint': 'mean'})\n",
    "                           .reset_index()\n",
    "                           .query('pest_complaint > 0'))\n",
    "display(pest_complaints_summary)"
   ]
  }
 ],
 "metadata": {
  "kernelspec": {
   "display_name": "base",
   "language": "python",
   "name": "python3"
  },
  "language_info": {
   "codemirror_mode": {
    "name": "ipython",
    "version": 3
   },
   "file_extension": ".py",
   "mimetype": "text/x-python",
   "name": "python",
   "nbconvert_exporter": "python",
   "pygments_lexer": "ipython3",
   "version": "3.12.4"
  }
 },
 "nbformat": 4,
 "nbformat_minor": 2
}
